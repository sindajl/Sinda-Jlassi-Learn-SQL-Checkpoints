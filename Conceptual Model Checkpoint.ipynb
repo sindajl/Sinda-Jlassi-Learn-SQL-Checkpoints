{
 "cells": [
  {
   "cell_type": "markdown",
   "metadata": {},
   "source": [
    "## Objective"
   ]
  },
  {
   "cell_type": "markdown",
   "metadata": {},
   "source": [
    "Vous décidez de rejoindre une très grande chaîne de gym connue. A votre arrivée, vous vous rendez à la réception. Vous trouvez le propriétaire en train de se disputer avec un membre qui souhaite assister à une session à laquelle il ne s'est pas inscrit. Votre tour arrive enfin, le propriétaire s'excuse de vous avoir laissé attendre si longtemps. Il explique que son employé, en charge des inscriptions, s'est trompé en choisissant la session du membre."
   ]
  },
  {
   "cell_type": "markdown",
   "metadata": {},
   "source": [
    "\n",
    "Vous êtes surpris qu'un gymnase aussi reconnu utilise encore les cartes pour gérer son grand nombre de clients. Donc, vous parlez au propriétaire pour résoudre ce problème. Intéressé par vos connaissances, il vous demande de lui trouver une solution, en retour il vous offrira une inscription gratuite de 3 mois."
   ]
  },
  {
   "cell_type": "markdown",
   "metadata": {},
   "source": [
    "\n",
    "Le propriétaire vous informe que :"
   ]
  },
  {
   "cell_type": "markdown",
   "metadata": {},
   "source": [
    "\n",
    "- il possède plusieurs gymnases qui se distinguent par leurs noms, adresses et numéro de téléphone."
   ]
  },
  {
   "cell_type": "markdown",
   "metadata": {},
   "source": [
    "- Les membres peuvent s'inscrire dans l'un de ces gymnases, ils doivent donc fournir les informations suivantes : identifiant unique, nom, prénom, adresse, date de naissance et sexe. \n"
   ]
  },
  {
   "cell_type": "markdown",
   "metadata": {},
   "source": [
    "- Chaque session est caractérisée par un type de sport et un horaire et peut accueillir un maximum de 20 membres."
   ]
  },
  {
   "cell_type": "markdown",
   "metadata": {},
   "source": [
    "- Les séances sont animées par un maximum de deux coachs qui ont un nom, un prénom, un âge et une spécialité."
   ]
  },
  {
   "cell_type": "markdown",
   "metadata": {},
   "source": [
    "### Instructions"
   ]
  },
  {
   "cell_type": "markdown",
   "metadata": {},
   "source": [
    "**Compte tenu du texte mentionné ci-dessus, essayez de créer le modèle de relation Entité correspondant.**"
   ]
  },
  {
   "cell_type": "markdown",
   "metadata": {},
   "source": [
    "une salle de gym. Disons que vous allez écrire un logiciel pour une salle de gym"
   ]
  }
 ],
 "metadata": {
  "kernelspec": {
   "display_name": "Python 3",
   "language": "python",
   "name": "python3"
  },
  "language_info": {
   "codemirror_mode": {
    "name": "ipython",
    "version": 3
   },
   "file_extension": ".py",
   "mimetype": "text/x-python",
   "name": "python",
   "nbconvert_exporter": "python",
   "pygments_lexer": "ipython3",
   "version": "3.7.4"
  }
 },
 "nbformat": 4,
 "nbformat_minor": 2
}
