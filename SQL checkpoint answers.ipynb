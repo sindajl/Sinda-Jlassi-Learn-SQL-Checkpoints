{
 "cells": [
  {
   "cell_type": "markdown",
   "metadata": {},
   "source": [
    "Convert the entity relationship diagram into relational model."
   ]
  },
  {
   "cell_type": "code",
   "execution_count": null,
   "metadata": {},
   "outputs": [],
   "source": [
    "CREATE TABLE wine(\n",
    "    wine_number INT NOT NULL,\n",
    "    wine_category VARCHAR(45),\n",
    "    wine_year YEAR,\n",
    "    wine_degree INT,\n",
    "    PRIMARY KEY (wine_number)\n",
    ");\n",
    "\n",
    "CREATE TABLE producer(\n",
    "    producer_number INT NOT NULL,\n",
    "    producer_first_name VARCHAR(45),\n",
    "    producer_last_name VARCHAR(45),\n",
    "    producer_region VARCHAR(45),\n",
    "    PRIMARY KEY (producer_number)\n",
    ");\n",
    "\n",
    "\n",
    "CREATE TABLE harvest(\n",
    "    wine_number INT NOT NULL ,\n",
    "    producer_number INT NOT NULL,\n",
    "    harvest_quantity INT,\n",
    "    CONSTRAINT PRIMARY KEY (wine_number,producer_number),\n",
    "    CONSTRAINT FOREIGN KEY (wine_number) REFERENCES Customer (wine_number),\n",
    "    CONSTRAINT FOREIGN KEY (producer_number) REFERENCES producer (producer_number)\n",
    ");"
   ]
  },
  {
   "cell_type": "markdown",
   "metadata": {},
   "source": [
    "Give the list the producers."
   ]
  },
  {
   "cell_type": "code",
   "execution_count": null,
   "metadata": {},
   "outputs": [],
   "source": [
    "SELECT \n",
    "  * \n",
    "FROM \n",
    "  `producer` p"
   ]
  },
  {
   "cell_type": "markdown",
   "metadata": {},
   "source": [
    "Give the list of producers sorted by name."
   ]
  },
  {
   "cell_type": "code",
   "execution_count": null,
   "metadata": {},
   "outputs": [],
   "source": [
    "SELECT \n",
    "  * \n",
    "FROM \n",
    "  `producer` p\n",
    "ORDER BY \n",
    "  p.producer_first_name"
   ]
  },
  {
   "cell_type": "markdown",
   "metadata": {},
   "source": [
    "Give the list the producers of Sousse."
   ]
  },
  {
   "cell_type": "code",
   "execution_count": null,
   "metadata": {},
   "outputs": [],
   "source": [
    "SELECT \n",
    "  * \n",
    "FROM \n",
    "  `producer` p\n",
    "WHERE \n",
    "  p.producer_region = \"Sousse\""
   ]
  },
  {
   "cell_type": "markdown",
   "metadata": {},
   "source": [
    "Calculate the total quantity of wine produced having the number 12."
   ]
  },
  {
   "cell_type": "code",
   "execution_count": null,
   "metadata": {},
   "outputs": [],
   "source": [
    "SELECT \n",
    "  h.wine_number AS WINE_NUMBER,\n",
    "  SUM(h.harvest_quantity) AS TOTALQUANTITY\n",
    "FROM \n",
    "  `harvest` AS h\n",
    "WHERE \n",
    "  h.wine_number = 12"
   ]
  },
  {
   "cell_type": "markdown",
   "metadata": {},
   "source": [
    "Calculate the quantity of wine produced by category."
   ]
  },
  {
   "cell_type": "code",
   "execution_count": null,
   "metadata": {},
   "outputs": [],
   "source": [
    "SELECT\n",
    "  (SELECT \n",
    "     w.wine_number \n",
    "   FROM \n",
    "     `wine` w \n",
    "   WHERE \n",
    "     w.wine_number = h.wine_number ) AS WINENUMBER,\n",
    "  SUM(h.harvest_quantity) AS QUANTITY\n",
    "FROM\n",
    "  `harvest` h\n",
    "GROUP BY\n",
    "  WINENUMBER"
   ]
  },
  {
   "cell_type": "markdown",
   "metadata": {},
   "source": [
    "Which producers in the Sousse region have harvested at least one wine in quantities greater than 300 liters? We want the names and first names of the producers, sorted in alphabetical order."
   ]
  },
  {
   "cell_type": "code",
   "execution_count": null,
   "metadata": {},
   "outputs": [],
   "source": [
    "SELECT\n",
    "  p.producer_first_name AS NAME_PRODUCER,\n",
    "  p.producer_region AS REGION_PRODUCER,\n",
    "  COUNT(h.wine_number) AS How_Much_Wine,\n",
    "  SUM(h.harvest_quantity) AS TOTAL_QUANTITY_WINE\n",
    "FROM\n",
    "  `harvest` h\n",
    "INNER JOIN\n",
    "  `producer` p\n",
    "ON\n",
    "  h.producer_number = p.producer_number\n",
    "  AND\n",
    "  p.producer_region = \"Sousse\"\n",
    "AND\n",
    "  h.harvest_quantity > 300\n",
    "GROUP BY\n",
    "  NAME_PRODUCER ASC"
   ]
  },
  {
   "cell_type": "markdown",
   "metadata": {},
   "source": [
    "List the wine numbers that have a degree greater than 12 and that have been produced by producer number 24."
   ]
  },
  {
   "cell_type": "code",
   "execution_count": null,
   "metadata": {},
   "outputs": [],
   "source": [
    "SELECT \n",
    "  h.producer_number  AS PRODUCER_NUMBER, \n",
    "  h.wine_number AS WINE_NUMBER, \n",
    "  w.wine_degree AS WINE_DEGREE \n",
    "FROM \n",
    "  `harvest` h \n",
    "INNER JOIN \n",
    "  `wine` w \n",
    "ON \n",
    "  h.wine_number = w.wine_number\n",
    "AND\n",
    "  w.wine_degree > 12 \n",
    "AND \n",
    "  h.producer_number = 24 \n",
    "ORDER BY\n",
    "  WINE_NUMBER"
   ]
  }
 ],
 "metadata": {
  "kernelspec": {
   "display_name": "Python 3",
   "language": "python",
   "name": "python3"
  },
  "language_info": {
   "codemirror_mode": {
    "name": "ipython",
    "version": 3
   },
   "file_extension": ".py",
   "mimetype": "text/x-python",
   "name": "python",
   "nbconvert_exporter": "python",
   "pygments_lexer": "ipython3",
   "version": "3.7.4"
  }
 },
 "nbformat": 4,
 "nbformat_minor": 2
}
